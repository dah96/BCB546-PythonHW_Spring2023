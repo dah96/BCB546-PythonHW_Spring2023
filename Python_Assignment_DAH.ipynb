{
 "cells": [
  {
   "cell_type": "markdown",
   "id": "c372a7a2",
   "metadata": {},
   "source": [
    "# Python Assignment\n",
    "## By Dylan Harris"
   ]
  },
  {
   "cell_type": "code",
   "execution_count": 1,
   "id": "14c978c1",
   "metadata": {},
   "outputs": [],
   "source": [
    "#Loading required packages\n",
    "from Bio import SeqIO\n",
    "from Bio.Data import CodonTable\n",
    "import pandas as pd"
   ]
  },
  {
   "cell_type": "markdown",
   "id": "1ee82666",
   "metadata": {},
   "source": [
    "## Functions\n",
    "### Question 1"
   ]
  },
  {
   "cell_type": "code",
   "execution_count": 5,
   "id": "e2931dbf",
   "metadata": {},
   "outputs": [
    {
     "ename": "SyntaxError",
     "evalue": "invalid syntax (3116882576.py, line 1)",
     "output_type": "error",
     "traceback": [
      "\u001b[1;36m  Cell \u001b[1;32mIn[5], line 1\u001b[1;36m\u001b[0m\n\u001b[1;33m    def get_sequences_from_file(penguins_cytb.fasta):\u001b[0m\n\u001b[1;37m                                             ^\u001b[0m\n\u001b[1;31mSyntaxError\u001b[0m\u001b[1;31m:\u001b[0m invalid syntax\n"
     ]
    }
   ],
   "source": [
    "def get_sequences_from_file(penguins_cytb.fasta):\n",
    "    sequence_data_dict = {}\n",
    "    for record in SeqIO.parse(penguins_cytb.fasta, \"fasta\"):\n",
    "        description = record.description.split()\n",
    "        species_name = description[1] + \" \" + description[2]\n",
    "        sequence_data_dict[species_name] = record.seq\n",
    "    return(sequence_data_dict)"
   ]
  },
  {
   "cell_type": "code",
   "execution_count": null,
   "id": "2950f708",
   "metadata": {},
   "outputs": [],
   "source": []
  }
 ],
 "metadata": {
  "kernelspec": {
   "display_name": "Python 3 (ipykernel)",
   "language": "python",
   "name": "python3"
  },
  "language_info": {
   "codemirror_mode": {
    "name": "ipython",
    "version": 3
   },
   "file_extension": ".py",
   "mimetype": "text/x-python",
   "name": "python",
   "nbconvert_exporter": "python",
   "pygments_lexer": "ipython3",
   "version": "3.10.9"
  }
 },
 "nbformat": 4,
 "nbformat_minor": 5
}
